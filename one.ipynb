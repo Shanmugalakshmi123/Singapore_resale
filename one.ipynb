{
 "cells": [
  {
   "cell_type": "code",
   "execution_count": 1,
   "metadata": {},
   "outputs": [
    {
     "data": {
      "text/html": [
       "<div>\n",
       "<style scoped>\n",
       "    .dataframe tbody tr th:only-of-type {\n",
       "        vertical-align: middle;\n",
       "    }\n",
       "\n",
       "    .dataframe tbody tr th {\n",
       "        vertical-align: top;\n",
       "    }\n",
       "\n",
       "    .dataframe thead th {\n",
       "        text-align: right;\n",
       "    }\n",
       "</style>\n",
       "<table border=\"1\" class=\"dataframe\">\n",
       "  <thead>\n",
       "    <tr style=\"text-align: right;\">\n",
       "      <th></th>\n",
       "      <th>month</th>\n",
       "      <th>town</th>\n",
       "      <th>flat_type</th>\n",
       "      <th>block</th>\n",
       "      <th>street_name</th>\n",
       "      <th>storey_range</th>\n",
       "      <th>floor_area_sqm</th>\n",
       "      <th>flat_model</th>\n",
       "      <th>lease_commence_date</th>\n",
       "      <th>resale_price</th>\n",
       "      <th>remaining_lease</th>\n",
       "    </tr>\n",
       "  </thead>\n",
       "  <tbody>\n",
       "    <tr>\n",
       "      <th>0</th>\n",
       "      <td>2000-01</td>\n",
       "      <td>ANG MO KIO</td>\n",
       "      <td>3 ROOM</td>\n",
       "      <td>170</td>\n",
       "      <td>ANG MO KIO AVE 4</td>\n",
       "      <td>07 TO 09</td>\n",
       "      <td>69.0</td>\n",
       "      <td>Improved</td>\n",
       "      <td>1986</td>\n",
       "      <td>147000.0</td>\n",
       "      <td>NaN</td>\n",
       "    </tr>\n",
       "    <tr>\n",
       "      <th>1</th>\n",
       "      <td>2000-01</td>\n",
       "      <td>ANG MO KIO</td>\n",
       "      <td>3 ROOM</td>\n",
       "      <td>174</td>\n",
       "      <td>ANG MO KIO AVE 4</td>\n",
       "      <td>04 TO 06</td>\n",
       "      <td>61.0</td>\n",
       "      <td>Improved</td>\n",
       "      <td>1986</td>\n",
       "      <td>144000.0</td>\n",
       "      <td>NaN</td>\n",
       "    </tr>\n",
       "    <tr>\n",
       "      <th>2</th>\n",
       "      <td>2000-01</td>\n",
       "      <td>ANG MO KIO</td>\n",
       "      <td>3 ROOM</td>\n",
       "      <td>216</td>\n",
       "      <td>ANG MO KIO AVE 1</td>\n",
       "      <td>07 TO 09</td>\n",
       "      <td>73.0</td>\n",
       "      <td>New Generation</td>\n",
       "      <td>1976</td>\n",
       "      <td>159000.0</td>\n",
       "      <td>NaN</td>\n",
       "    </tr>\n",
       "    <tr>\n",
       "      <th>3</th>\n",
       "      <td>2000-01</td>\n",
       "      <td>ANG MO KIO</td>\n",
       "      <td>3 ROOM</td>\n",
       "      <td>215</td>\n",
       "      <td>ANG MO KIO AVE 1</td>\n",
       "      <td>07 TO 09</td>\n",
       "      <td>73.0</td>\n",
       "      <td>New Generation</td>\n",
       "      <td>1976</td>\n",
       "      <td>167000.0</td>\n",
       "      <td>NaN</td>\n",
       "    </tr>\n",
       "    <tr>\n",
       "      <th>4</th>\n",
       "      <td>2000-01</td>\n",
       "      <td>ANG MO KIO</td>\n",
       "      <td>3 ROOM</td>\n",
       "      <td>218</td>\n",
       "      <td>ANG MO KIO AVE 1</td>\n",
       "      <td>07 TO 09</td>\n",
       "      <td>67.0</td>\n",
       "      <td>New Generation</td>\n",
       "      <td>1976</td>\n",
       "      <td>163000.0</td>\n",
       "      <td>NaN</td>\n",
       "    </tr>\n",
       "    <tr>\n",
       "      <th>...</th>\n",
       "      <td>...</td>\n",
       "      <td>...</td>\n",
       "      <td>...</td>\n",
       "      <td>...</td>\n",
       "      <td>...</td>\n",
       "      <td>...</td>\n",
       "      <td>...</td>\n",
       "      <td>...</td>\n",
       "      <td>...</td>\n",
       "      <td>...</td>\n",
       "      <td>...</td>\n",
       "    </tr>\n",
       "    <tr>\n",
       "      <th>52198</th>\n",
       "      <td>2014-12</td>\n",
       "      <td>YISHUN</td>\n",
       "      <td>5 ROOM</td>\n",
       "      <td>816</td>\n",
       "      <td>YISHUN ST 81</td>\n",
       "      <td>10 TO 12</td>\n",
       "      <td>122.0</td>\n",
       "      <td>Improved</td>\n",
       "      <td>1988</td>\n",
       "      <td>580000.0</td>\n",
       "      <td>NaN</td>\n",
       "    </tr>\n",
       "    <tr>\n",
       "      <th>52199</th>\n",
       "      <td>2014-12</td>\n",
       "      <td>YISHUN</td>\n",
       "      <td>EXECUTIVE</td>\n",
       "      <td>325</td>\n",
       "      <td>YISHUN CTRL</td>\n",
       "      <td>10 TO 12</td>\n",
       "      <td>146.0</td>\n",
       "      <td>Maisonette</td>\n",
       "      <td>1988</td>\n",
       "      <td>540000.0</td>\n",
       "      <td>NaN</td>\n",
       "    </tr>\n",
       "    <tr>\n",
       "      <th>52200</th>\n",
       "      <td>2014-12</td>\n",
       "      <td>YISHUN</td>\n",
       "      <td>EXECUTIVE</td>\n",
       "      <td>618</td>\n",
       "      <td>YISHUN RING RD</td>\n",
       "      <td>07 TO 09</td>\n",
       "      <td>164.0</td>\n",
       "      <td>Apartment</td>\n",
       "      <td>1992</td>\n",
       "      <td>738000.0</td>\n",
       "      <td>NaN</td>\n",
       "    </tr>\n",
       "    <tr>\n",
       "      <th>52201</th>\n",
       "      <td>2014-12</td>\n",
       "      <td>YISHUN</td>\n",
       "      <td>EXECUTIVE</td>\n",
       "      <td>277</td>\n",
       "      <td>YISHUN ST 22</td>\n",
       "      <td>07 TO 09</td>\n",
       "      <td>152.0</td>\n",
       "      <td>Maisonette</td>\n",
       "      <td>1985</td>\n",
       "      <td>592000.0</td>\n",
       "      <td>NaN</td>\n",
       "    </tr>\n",
       "    <tr>\n",
       "      <th>52202</th>\n",
       "      <td>2014-12</td>\n",
       "      <td>YISHUN</td>\n",
       "      <td>EXECUTIVE</td>\n",
       "      <td>277</td>\n",
       "      <td>YISHUN ST 22</td>\n",
       "      <td>04 TO 06</td>\n",
       "      <td>146.0</td>\n",
       "      <td>Maisonette</td>\n",
       "      <td>1985</td>\n",
       "      <td>545000.0</td>\n",
       "      <td>NaN</td>\n",
       "    </tr>\n",
       "  </tbody>\n",
       "</table>\n",
       "<p>918549 rows × 11 columns</p>\n",
       "</div>"
      ],
      "text/plain": [
       "         month        town  flat_type block       street_name storey_range  \\\n",
       "0      2000-01  ANG MO KIO     3 ROOM   170  ANG MO KIO AVE 4     07 TO 09   \n",
       "1      2000-01  ANG MO KIO     3 ROOM   174  ANG MO KIO AVE 4     04 TO 06   \n",
       "2      2000-01  ANG MO KIO     3 ROOM   216  ANG MO KIO AVE 1     07 TO 09   \n",
       "3      2000-01  ANG MO KIO     3 ROOM   215  ANG MO KIO AVE 1     07 TO 09   \n",
       "4      2000-01  ANG MO KIO     3 ROOM   218  ANG MO KIO AVE 1     07 TO 09   \n",
       "...        ...         ...        ...   ...               ...          ...   \n",
       "52198  2014-12      YISHUN     5 ROOM   816      YISHUN ST 81     10 TO 12   \n",
       "52199  2014-12      YISHUN  EXECUTIVE   325       YISHUN CTRL     10 TO 12   \n",
       "52200  2014-12      YISHUN  EXECUTIVE   618    YISHUN RING RD     07 TO 09   \n",
       "52201  2014-12      YISHUN  EXECUTIVE   277      YISHUN ST 22     07 TO 09   \n",
       "52202  2014-12      YISHUN  EXECUTIVE   277      YISHUN ST 22     04 TO 06   \n",
       "\n",
       "       floor_area_sqm      flat_model  lease_commence_date  resale_price  \\\n",
       "0                69.0        Improved                 1986      147000.0   \n",
       "1                61.0        Improved                 1986      144000.0   \n",
       "2                73.0  New Generation                 1976      159000.0   \n",
       "3                73.0  New Generation                 1976      167000.0   \n",
       "4                67.0  New Generation                 1976      163000.0   \n",
       "...               ...             ...                  ...           ...   \n",
       "52198           122.0        Improved                 1988      580000.0   \n",
       "52199           146.0      Maisonette                 1988      540000.0   \n",
       "52200           164.0       Apartment                 1992      738000.0   \n",
       "52201           152.0      Maisonette                 1985      592000.0   \n",
       "52202           146.0      Maisonette                 1985      545000.0   \n",
       "\n",
       "      remaining_lease  \n",
       "0                 NaN  \n",
       "1                 NaN  \n",
       "2                 NaN  \n",
       "3                 NaN  \n",
       "4                 NaN  \n",
       "...               ...  \n",
       "52198             NaN  \n",
       "52199             NaN  \n",
       "52200             NaN  \n",
       "52201             NaN  \n",
       "52202             NaN  \n",
       "\n",
       "[918549 rows x 11 columns]"
      ]
     },
     "execution_count": 1,
     "metadata": {},
     "output_type": "execute_result"
    }
   ],
   "source": [
    "import pandas as pd\n",
    "df1=pd.read_csv(\"2000Feb2012.csv\")\n",
    "df2=pd.read_csv(\"19901999.csv\")\n",
    "df3=pd.read_csv(\"Jan2015toDec2016.csv\")\n",
    "df4=pd.read_csv(\"Jan2017onwards.csv\")\n",
    "df5=pd.read_csv(\"Mar2012toDec2014.csv\")\n",
    "df=pd.concat([df1,df2,df3,df4,df5])\n",
    "df"
   ]
  },
  {
   "cell_type": "code",
   "execution_count": 2,
   "metadata": {},
   "outputs": [
    {
     "data": {
      "text/html": [
       "<div>\n",
       "<style scoped>\n",
       "    .dataframe tbody tr th:only-of-type {\n",
       "        vertical-align: middle;\n",
       "    }\n",
       "\n",
       "    .dataframe tbody tr th {\n",
       "        vertical-align: top;\n",
       "    }\n",
       "\n",
       "    .dataframe thead th {\n",
       "        text-align: right;\n",
       "    }\n",
       "</style>\n",
       "<table border=\"1\" class=\"dataframe\">\n",
       "  <thead>\n",
       "    <tr style=\"text-align: right;\">\n",
       "      <th></th>\n",
       "      <th>month</th>\n",
       "      <th>town</th>\n",
       "      <th>flat_type</th>\n",
       "      <th>block</th>\n",
       "      <th>street_name</th>\n",
       "      <th>storey_range</th>\n",
       "      <th>floor_area_sqm</th>\n",
       "      <th>flat_model</th>\n",
       "      <th>lease_commence_date</th>\n",
       "      <th>resale_price</th>\n",
       "      <th>remaining_lease</th>\n",
       "    </tr>\n",
       "  </thead>\n",
       "  <tbody>\n",
       "    <tr>\n",
       "      <th>0</th>\n",
       "      <td>120</td>\n",
       "      <td>0</td>\n",
       "      <td>2</td>\n",
       "      <td>244</td>\n",
       "      <td>17</td>\n",
       "      <td>4</td>\n",
       "      <td>69.0</td>\n",
       "      <td>9</td>\n",
       "      <td>20</td>\n",
       "      <td>147000.0</td>\n",
       "      <td>NaN</td>\n",
       "    </tr>\n",
       "    <tr>\n",
       "      <th>1</th>\n",
       "      <td>120</td>\n",
       "      <td>0</td>\n",
       "      <td>2</td>\n",
       "      <td>261</td>\n",
       "      <td>17</td>\n",
       "      <td>2</td>\n",
       "      <td>61.0</td>\n",
       "      <td>9</td>\n",
       "      <td>20</td>\n",
       "      <td>144000.0</td>\n",
       "      <td>NaN</td>\n",
       "    </tr>\n",
       "    <tr>\n",
       "      <th>2</th>\n",
       "      <td>120</td>\n",
       "      <td>0</td>\n",
       "      <td>2</td>\n",
       "      <td>447</td>\n",
       "      <td>13</td>\n",
       "      <td>4</td>\n",
       "      <td>73.0</td>\n",
       "      <td>21</td>\n",
       "      <td>10</td>\n",
       "      <td>159000.0</td>\n",
       "      <td>NaN</td>\n",
       "    </tr>\n",
       "    <tr>\n",
       "      <th>3</th>\n",
       "      <td>120</td>\n",
       "      <td>0</td>\n",
       "      <td>2</td>\n",
       "      <td>444</td>\n",
       "      <td>13</td>\n",
       "      <td>4</td>\n",
       "      <td>73.0</td>\n",
       "      <td>21</td>\n",
       "      <td>10</td>\n",
       "      <td>167000.0</td>\n",
       "      <td>NaN</td>\n",
       "    </tr>\n",
       "    <tr>\n",
       "      <th>4</th>\n",
       "      <td>120</td>\n",
       "      <td>0</td>\n",
       "      <td>2</td>\n",
       "      <td>457</td>\n",
       "      <td>13</td>\n",
       "      <td>4</td>\n",
       "      <td>67.0</td>\n",
       "      <td>21</td>\n",
       "      <td>10</td>\n",
       "      <td>163000.0</td>\n",
       "      <td>NaN</td>\n",
       "    </tr>\n",
       "    <tr>\n",
       "      <th>...</th>\n",
       "      <td>...</td>\n",
       "      <td>...</td>\n",
       "      <td>...</td>\n",
       "      <td>...</td>\n",
       "      <td>...</td>\n",
       "      <td>...</td>\n",
       "      <td>...</td>\n",
       "      <td>...</td>\n",
       "      <td>...</td>\n",
       "      <td>...</td>\n",
       "      <td>...</td>\n",
       "    </tr>\n",
       "    <tr>\n",
       "      <th>52198</th>\n",
       "      <td>299</td>\n",
       "      <td>26</td>\n",
       "      <td>4</td>\n",
       "      <td>2345</td>\n",
       "      <td>575</td>\n",
       "      <td>5</td>\n",
       "      <td>122.0</td>\n",
       "      <td>9</td>\n",
       "      <td>22</td>\n",
       "      <td>580000.0</td>\n",
       "      <td>NaN</td>\n",
       "    </tr>\n",
       "    <tr>\n",
       "      <th>52199</th>\n",
       "      <td>299</td>\n",
       "      <td>26</td>\n",
       "      <td>5</td>\n",
       "      <td>907</td>\n",
       "      <td>561</td>\n",
       "      <td>5</td>\n",
       "      <td>146.0</td>\n",
       "      <td>15</td>\n",
       "      <td>22</td>\n",
       "      <td>540000.0</td>\n",
       "      <td>NaN</td>\n",
       "    </tr>\n",
       "    <tr>\n",
       "      <th>52200</th>\n",
       "      <td>299</td>\n",
       "      <td>26</td>\n",
       "      <td>5</td>\n",
       "      <td>1781</td>\n",
       "      <td>563</td>\n",
       "      <td>4</td>\n",
       "      <td>164.0</td>\n",
       "      <td>5</td>\n",
       "      <td>26</td>\n",
       "      <td>738000.0</td>\n",
       "      <td>NaN</td>\n",
       "    </tr>\n",
       "    <tr>\n",
       "      <th>52201</th>\n",
       "      <td>299</td>\n",
       "      <td>26</td>\n",
       "      <td>5</td>\n",
       "      <td>671</td>\n",
       "      <td>567</td>\n",
       "      <td>4</td>\n",
       "      <td>152.0</td>\n",
       "      <td>15</td>\n",
       "      <td>19</td>\n",
       "      <td>592000.0</td>\n",
       "      <td>NaN</td>\n",
       "    </tr>\n",
       "    <tr>\n",
       "      <th>52202</th>\n",
       "      <td>299</td>\n",
       "      <td>26</td>\n",
       "      <td>5</td>\n",
       "      <td>671</td>\n",
       "      <td>567</td>\n",
       "      <td>2</td>\n",
       "      <td>146.0</td>\n",
       "      <td>15</td>\n",
       "      <td>19</td>\n",
       "      <td>545000.0</td>\n",
       "      <td>NaN</td>\n",
       "    </tr>\n",
       "  </tbody>\n",
       "</table>\n",
       "<p>918549 rows × 11 columns</p>\n",
       "</div>"
      ],
      "text/plain": [
       "       month  town  flat_type  block  street_name  storey_range  \\\n",
       "0        120     0          2    244           17             4   \n",
       "1        120     0          2    261           17             2   \n",
       "2        120     0          2    447           13             4   \n",
       "3        120     0          2    444           13             4   \n",
       "4        120     0          2    457           13             4   \n",
       "...      ...   ...        ...    ...          ...           ...   \n",
       "52198    299    26          4   2345          575             5   \n",
       "52199    299    26          5    907          561             5   \n",
       "52200    299    26          5   1781          563             4   \n",
       "52201    299    26          5    671          567             4   \n",
       "52202    299    26          5    671          567             2   \n",
       "\n",
       "       floor_area_sqm  flat_model  lease_commence_date  resale_price  \\\n",
       "0                69.0           9                   20      147000.0   \n",
       "1                61.0           9                   20      144000.0   \n",
       "2                73.0          21                   10      159000.0   \n",
       "3                73.0          21                   10      167000.0   \n",
       "4                67.0          21                   10      163000.0   \n",
       "...               ...         ...                  ...           ...   \n",
       "52198           122.0           9                   22      580000.0   \n",
       "52199           146.0          15                   22      540000.0   \n",
       "52200           164.0           5                   26      738000.0   \n",
       "52201           152.0          15                   19      592000.0   \n",
       "52202           146.0          15                   19      545000.0   \n",
       "\n",
       "      remaining_lease  \n",
       "0                 NaN  \n",
       "1                 NaN  \n",
       "2                 NaN  \n",
       "3                 NaN  \n",
       "4                 NaN  \n",
       "...               ...  \n",
       "52198             NaN  \n",
       "52199             NaN  \n",
       "52200             NaN  \n",
       "52201             NaN  \n",
       "52202             NaN  \n",
       "\n",
       "[918549 rows x 11 columns]"
      ]
     },
     "execution_count": 2,
     "metadata": {},
     "output_type": "execute_result"
    }
   ],
   "source": [
    "from sklearn.preprocessing import LabelEncoder\n",
    "le=LabelEncoder()\n",
    "# df['month']=df['month'].astype('category')\n",
    "# df['town']=df['town'].astype('category')\n",
    "# df['flat_type']=df['flat_type'].astype('category')\n",
    "# df['block']=df['block'].astype('category')\n",
    "# df['street_name']=df['street_name'].astype('category')\n",
    "# df['storey_range']=df['storey_range'].astype('category')\n",
    "# df['flat_model']=df['flat_model'].astype('category')\n",
    "# df['lease_commence_date']=df['lease_commence_date'].astype('category')\n",
    "\n",
    "\n",
    "# df['month']=df['month'].cat.codes\n",
    "# df['town']=df['town'].cat.codes\n",
    "# df['flat_type']=df['flat_type'].cat.codes\n",
    "# df['block']=df['block'].cat.codes\n",
    "# df['street_name']=df['street_name'].cat.codes\n",
    "# df['storey_range']=df['storey_range'].cat.codes\n",
    "# df['flat_model']=df['flat_model'].cat.codes\n",
    "# df['lease_commence_date']=df['lease_commence_date'].cat.codes\n",
    "\n",
    "\n",
    "df['month']=le.fit_transform(df.iloc[:,0])\n",
    "df['town']=le.fit_transform(df.iloc[:,1])\n",
    "df['flat_type']=le.fit_transform(df.iloc[:,2])\n",
    "df['block']=le.fit_transform(df.iloc[:,3])\n",
    "df['street_name']=le.fit_transform(df.iloc[:,4])\n",
    "df['storey_range']=le.fit_transform(df.iloc[:,5])\n",
    "#df.iloc[:,6]=le.fit_transform(df.iloc[:,6])\n",
    "df['flat_model']=le.fit_transform(df.iloc[:,7])\n",
    "df['lease_commence_date']=le.fit_transform(df.iloc[:,8])\n",
    "# df.info()\n",
    "df"
   ]
  },
  {
   "cell_type": "code",
   "execution_count": 3,
   "metadata": {},
   "outputs": [
    {
     "data": {
      "text/plain": [
       "{'whiskers': [<matplotlib.lines.Line2D at 0x24c379b0a70>,\n",
       "  <matplotlib.lines.Line2D at 0x24c379b0d40>],\n",
       " 'caps': [<matplotlib.lines.Line2D at 0x24c379b0fb0>,\n",
       "  <matplotlib.lines.Line2D at 0x24c379b12e0>],\n",
       " 'boxes': [<matplotlib.lines.Line2D at 0x24c379b0860>],\n",
       " 'medians': [<matplotlib.lines.Line2D at 0x24c379b1610>],\n",
       " 'fliers': [<matplotlib.lines.Line2D at 0x24c379b1910>],\n",
       " 'means': []}"
      ]
     },
     "execution_count": 3,
     "metadata": {},
     "output_type": "execute_result"
    },
    {
     "data": {
      "image/png": "[encoded data removed]",
      "text/plain": [
       "<Figure size 640x480 with 1 Axes>"
      ]
     },
     "metadata": {},
     "output_type": "display_data"
    }
   ],
   "source": [
    "import matplotlib.pyplot as plt\n",
    "import seaborn as sns\n",
    "plt.boxplot(df['month'])"
   ]
  },
  {
   "cell_type": "code",
   "execution_count": 4,
   "metadata": {},
   "outputs": [
    {
     "data": {
      "text/plain": [
       "{'whiskers': [<matplotlib.lines.Line2D at 0x24c37a399a0>,\n",
       "  <matplotlib.lines.Line2D at 0x24c37a39c40>],\n",
       " 'caps': [<matplotlib.lines.Line2D at 0x24c37a39dc0>,\n",
       "  <matplotlib.lines.Line2D at 0x24c37a3a0c0>],\n",
       " 'boxes': [<matplotlib.lines.Line2D at 0x24c37a39760>],\n",
       " 'medians': [<matplotlib.lines.Line2D at 0x24c37a3a3c0>],\n",
       " 'fliers': [<matplotlib.lines.Line2D at 0x24c37a3a690>],\n",
       " 'means': []}"
      ]
     },
     "execution_count": 4,
     "metadata": {},
     "output_type": "execute_result"
    },
    {
     "data": {
      "image/png": "[encoded data removed]",
      "text/plain": [
       "<Figure size 640x480 with 1 Axes>"
      ]
     },
     "metadata": {},
     "output_type": "display_data"
    }
   ],
   "source": [
    "plt.boxplot(df['town'])"
   ]
  },
  {
   "cell_type": "code",
   "execution_count": 5,
   "metadata": {},
   "outputs": [
    {
     "data": {
      "text/plain": [
       "{'whiskers': [<matplotlib.lines.Line2D at 0x24c37e20530>,\n",
       "  <matplotlib.lines.Line2D at 0x24c37e206e0>],\n",
       " 'caps': [<matplotlib.lines.Line2D at 0x24c37e20a10>,\n",
       "  <matplotlib.lines.Line2D at 0x24c37e20d10>],\n",
       " 'boxes': [<matplotlib.lines.Line2D at 0x24c37a678f0>],\n",
       " 'medians': [<matplotlib.lines.Line2D at 0x24c37e21040>],\n",
       " 'fliers': [<matplotlib.lines.Line2D at 0x24c37e21310>],\n",
       " 'means': []}"
      ]
     },
     "execution_count": 5,
     "metadata": {},
     "output_type": "execute_result"
    },
    {
     "data": {
      "image/png": "[encoded data removed]",
      "text/plain": [
       "<Figure size 640x480 with 1 Axes>"
      ]
     },
     "metadata": {},
     "output_type": "display_data"
    }
   ],
   "source": [
    "plt.boxplot(df['flat_type'])"
   ]
  },
  {
   "cell_type": "code",
   "execution_count": 6,
   "metadata": {},
   "outputs": [
    {
     "data": {
      "text/plain": [
       "{'whiskers': [<matplotlib.lines.Line2D at 0x24c37e5f710>,\n",
       "  <matplotlib.lines.Line2D at 0x24c37e5fa10>],\n",
       " 'caps': [<matplotlib.lines.Line2D at 0x24c37e5fce0>,\n",
       "  <matplotlib.lines.Line2D at 0x24c37e5ffe0>],\n",
       " 'boxes': [<matplotlib.lines.Line2D at 0x24c37e5f620>],\n",
       " 'medians': [<matplotlib.lines.Line2D at 0x24c37e982f0>],\n",
       " 'fliers': [<matplotlib.lines.Line2D at 0x24c37e985c0>],\n",
       " 'means': []}"
      ]
     },
     "execution_count": 6,
     "metadata": {},
     "output_type": "execute_result"
    },
    {
     "data": {
      "image/png": "[encoded data removed]",
      "text/plain": [
       "<Figure size 640x480 with 1 Axes>"
      ]
     },
     "metadata": {},
     "output_type": "display_data"
    }
   ],
   "source": [
    "plt.boxplot(df['block'])"
   ]
  },
  {
   "cell_type": "code",
   "execution_count": 7,
   "metadata": {},
   "outputs": [
    {
     "data": {
      "text/plain": [
       "{'whiskers': [<matplotlib.lines.Line2D at 0x24c37ee1820>,\n",
       "  <matplotlib.lines.Line2D at 0x24c37ee1b50>],\n",
       " 'caps': [<matplotlib.lines.Line2D at 0x24c37ee1e50>,\n",
       "  <matplotlib.lines.Line2D at 0x24c37ee2120>],\n",
       " 'boxes': [<matplotlib.lines.Line2D at 0x24c37ee1580>],\n",
       " 'medians': [<matplotlib.lines.Line2D at 0x24c37ee2390>],\n",
       " 'fliers': [<matplotlib.lines.Line2D at 0x24c37ee2600>],\n",
       " 'means': []}"
      ]
     },
     "execution_count": 7,
     "metadata": {},
     "output_type": "execute_result"
    },
    {
     "data": {
      "image/png": "[encoded data removed]",
      "text/plain": [
       "<Figure size 640x480 with 1 Axes>"
      ]
     },
     "metadata": {},
     "output_type": "display_data"
    }
   ],
   "source": [
    "plt.boxplot(df['street_name'])"
   ]
  },
  {
   "cell_type": "code",
   "execution_count": 8,
   "metadata": {},
   "outputs": [
    {
     "data": {
      "text/plain": [
       "{'whiskers': [<matplotlib.lines.Line2D at 0x24c38090bc0>,\n",
       "  <matplotlib.lines.Line2D at 0x24c38090ec0>],\n",
       " 'caps': [<matplotlib.lines.Line2D at 0x24c38091190>,\n",
       "  <matplotlib.lines.Line2D at 0x24c38091400>],\n",
       " 'boxes': [<matplotlib.lines.Line2D at 0x24c380908c0>],\n",
       " 'medians': [<matplotlib.lines.Line2D at 0x24c38091700>],\n",
       " 'fliers': [<matplotlib.lines.Line2D at 0x24c38091a00>],\n",
       " 'means': []}"
      ]
     },
     "execution_count": 8,
     "metadata": {},
     "output_type": "execute_result"
    },
    {
     "data": {
      "image/png": "[encoded data removed]",
      "text/plain": [
       "<Figure size 640x480 with 1 Axes>"
      ]
     },
     "metadata": {},
     "output_type": "display_data"
    }
   ],
   "source": [
    "plt.boxplot(df['storey_range'])"
   ]
  },
  {
   "cell_type": "code",
   "execution_count": 9,
   "metadata": {},
   "outputs": [],
   "source": [
    "df=df[df['storey_range']<10]\n"
   ]
  },
  {
   "cell_type": "code",
   "execution_count": 10,
   "metadata": {},
   "outputs": [
    {
     "data": {
      "text/plain": [
       "{'whiskers': [<matplotlib.lines.Line2D at 0x24c380ee120>,\n",
       "  <matplotlib.lines.Line2D at 0x24c380ee450>],\n",
       " 'caps': [<matplotlib.lines.Line2D at 0x24c380ee780>,\n",
       "  <matplotlib.lines.Line2D at 0x24c380eea50>],\n",
       " 'boxes': [<matplotlib.lines.Line2D at 0x24c380ba000>],\n",
       " 'medians': [<matplotlib.lines.Line2D at 0x24c380eed50>],\n",
       " 'fliers': [<matplotlib.lines.Line2D at 0x24c380eeff0>],\n",
       " 'means': []}"
      ]
     },
     "execution_count": 10,
     "metadata": {},
     "output_type": "execute_result"
    },
    {
     "data": {
      "image/png": "[encoded data removed]",
      "text/plain": [
       "<Figure size 640x480 with 1 Axes>"
      ]
     },
     "metadata": {},
     "output_type": "display_data"
    }
   ],
   "source": [
    "plt.boxplot(df['storey_range'])"
   ]
  },
  {
   "cell_type": "code",
   "execution_count": 11,
   "metadata": {},
   "outputs": [
    {
     "data": {
      "text/plain": [
       "{'whiskers': [<matplotlib.lines.Line2D at 0x24c38137890>,\n",
       "  <matplotlib.lines.Line2D at 0x24c38137bc0>],\n",
       " 'caps': [<matplotlib.lines.Line2D at 0x24c38137ec0>,\n",
       "  <matplotlib.lines.Line2D at 0x24c37f301a0>],\n",
       " 'boxes': [<matplotlib.lines.Line2D at 0x24c38137680>],\n",
       " 'medians': [<matplotlib.lines.Line2D at 0x24c37f304a0>],\n",
       " 'fliers': [<matplotlib.lines.Line2D at 0x24c37f307d0>],\n",
       " 'means': []}"
      ]
     },
     "execution_count": 11,
     "metadata": {},
     "output_type": "execute_result"
    },
    {
     "data": {
      "image/png": "[encoded data removed]",
      "text/plain": [
       "<Figure size 640x480 with 1 Axes>"
      ]
     },
     "metadata": {},
     "output_type": "display_data"
    }
   ],
   "source": [
    "plt.boxplot(df['flat_model'])"
   ]
  },
  {
   "cell_type": "code",
   "execution_count": 12,
   "metadata": {},
   "outputs": [
    {
     "data": {
      "text/plain": [
       "{'whiskers': [<matplotlib.lines.Line2D at 0x24c37f62300>,\n",
       "  <matplotlib.lines.Line2D at 0x24c37f625d0>],\n",
       " 'caps': [<matplotlib.lines.Line2D at 0x24c37e5c5c0>,\n",
       "  <matplotlib.lines.Line2D at 0x24c37f629c0>],\n",
       " 'boxes': [<matplotlib.lines.Line2D at 0x24c37f458e0>],\n",
       " 'medians': [<matplotlib.lines.Line2D at 0x24c37f62c90>],\n",
       " 'fliers': [<matplotlib.lines.Line2D at 0x24c37f62f90>],\n",
       " 'means': []}"
      ]
     },
     "execution_count": 12,
     "metadata": {},
     "output_type": "execute_result"
    },
    {
     "data": {
      "image/png": "[encoded data removed]",
      "text/plain": [
       "<Figure size 640x480 with 1 Axes>"
      ]
     },
     "metadata": {},
     "output_type": "display_data"
    }
   ],
   "source": [
    "plt.boxplot(df['lease_commence_date'])"
   ]
  },
  {
   "cell_type": "code",
   "execution_count": 13,
   "metadata": {},
   "outputs": [],
   "source": [
    "df=df[df['lease_commence_date']<50]"
   ]
  },
  {
   "cell_type": "code",
   "execution_count": 17,
   "metadata": {},
   "outputs": [],
   "source": [
    "x=df.iloc[:,[0,1,2,3,4,5,6,7,8]]\n",
    "y=df.iloc[:,[9]]"
   ]
  },
  {
   "cell_type": "code",
   "execution_count": 15,
   "metadata": {},
   "outputs": [
    {
     "name": "stdout",
     "output_type": "stream",
     "text": [
      "boxcox: -1.7656142\n",
      "sqrt: -0.2561924877660744\n",
      "month 0.33073633844968875\n",
      "town -0.08837518969000575\n",
      "flat_type 0.4343071273175224\n",
      "block 0.2560269234334846\n",
      "street_name 0.007879378951035628\n",
      "storey_range -0.7647550265730618\n",
      "flat_model 0.19500869782641783\n",
      "lease_commence_date 0.4543161135017743\n"
     ]
    },
    {
     "data": {
      "image/png": "[encoded data removed]",
      "text/plain": [
       "<Figure size 640x480 with 1 Axes>"
      ]
     },
     "metadata": {},
     "output_type": "display_data"
    },
    {
     "data": {
      "text/html": [
       "<div>\n",
       "<style scoped>\n",
       "    .dataframe tbody tr th:only-of-type {\n",
       "        vertical-align: middle;\n",
       "    }\n",
       "\n",
       "    .dataframe tbody tr th {\n",
       "        vertical-align: top;\n",
       "    }\n",
       "\n",
       "    .dataframe thead th {\n",
       "        text-align: right;\n",
       "    }\n",
       "</style>\n",
       "<table border=\"1\" class=\"dataframe\">\n",
       "  <thead>\n",
       "    <tr style=\"text-align: right;\">\n",
       "      <th></th>\n",
       "      <th>month</th>\n",
       "      <th>town</th>\n",
       "      <th>flat_type</th>\n",
       "      <th>block</th>\n",
       "      <th>street_name</th>\n",
       "      <th>storey_range</th>\n",
       "      <th>floor_area_sqm</th>\n",
       "      <th>flat_model</th>\n",
       "      <th>lease_commence_date</th>\n",
       "      <th>resale_price</th>\n",
       "      <th>remaining_lease</th>\n",
       "    </tr>\n",
       "  </thead>\n",
       "  <tbody>\n",
       "  </tbody>\n",
       "</table>\n",
       "</div>"
      ],
      "text/plain": [
       "Empty DataFrame\n",
       "Columns: [month, town, flat_type, block, street_name, storey_range, floor_area_sqm, flat_model, lease_commence_date, resale_price, remaining_lease]\n",
       "Index: []"
      ]
     },
     "execution_count": 15,
     "metadata": {},
     "output_type": "execute_result"
    }
   ],
   "source": [
    "from scipy.stats import skew\n",
    "#from sklearn.preprocessing import L\n",
    "import numpy as np\n",
    "#r=np.array(x[0])\n",
    "boxcox_data=np.log(df['month'])\n",
    "print(\"boxcox:\",boxcox_data.skew())\n",
    "sqrt_data=np.sqrt(df['month'])\n",
    "print(\"sqrt:\",skew(sqrt_data))\n",
    "#df[\"storey_range\"]=df[\"storey_range\"].astype('category')\n",
    "c=pd.Categorical(df[\"storey_range\"])\n",
    "df[\"storey_range\"]=c.codes+1\n",
    "df['storey_range']=np.log(df['storey_range'])\n",
    "#print(\"storey_log\",skew(storey_log))\n",
    "#plt.hist(log_data)\n",
    "print(\"month\",skew(df['month']))\n",
    "print(\"town\",skew(df['town']))\n",
    "print(\"flat_type\",skew(df['flat_type']))\n",
    "print(\"block\",skew(df['block']))\n",
    "print(\"street_name\",skew(df['street_name']))\n",
    "print(\"storey_range\",skew(df['storey_range']))\n",
    "print(\"flat_model\",skew(df['flat_model']))\n",
    "print(\"lease_commence_date\",skew(df['lease_commence_date']))\n",
    "plot_data=df['month']\n",
    "plt.hist(sqrt_data)\n",
    "plt.show()\n",
    "df[df['month']==\"nan\"]"
   ]
  },
  {
   "cell_type": "code",
   "execution_count": 21,
   "metadata": {},
   "outputs": [
    {
     "data": {
      "text/html": [
       "<div>\n",
       "<style scoped>\n",
       "    .dataframe tbody tr th:only-of-type {\n",
       "        vertical-align: middle;\n",
       "    }\n",
       "\n",
       "    .dataframe tbody tr th {\n",
       "        vertical-align: top;\n",
       "    }\n",
       "\n",
       "    .dataframe thead th {\n",
       "        text-align: right;\n",
       "    }\n",
       "</style>\n",
       "<table border=\"1\" class=\"dataframe\">\n",
       "  <thead>\n",
       "    <tr style=\"text-align: right;\">\n",
       "      <th></th>\n",
       "      <th>month</th>\n",
       "      <th>town</th>\n",
       "      <th>flat_type</th>\n",
       "      <th>block</th>\n",
       "      <th>street_name</th>\n",
       "      <th>storey_range</th>\n",
       "      <th>floor_area_sqm</th>\n",
       "      <th>flat_model</th>\n",
       "      <th>lease_commence_date</th>\n",
       "      <th>resale_price</th>\n",
       "      <th>remaining_lease</th>\n",
       "    </tr>\n",
       "  </thead>\n",
       "  <tbody>\n",
       "    <tr>\n",
       "      <th>0</th>\n",
       "      <td>0</td>\n",
       "      <td>0</td>\n",
       "      <td>0</td>\n",
       "      <td>829</td>\n",
       "      <td>13</td>\n",
       "      <td>1.791992</td>\n",
       "      <td>31.0</td>\n",
       "      <td>7</td>\n",
       "      <td>11</td>\n",
       "      <td>9000.0</td>\n",
       "      <td>NaN</td>\n",
       "    </tr>\n",
       "    <tr>\n",
       "      <th>1</th>\n",
       "      <td>0</td>\n",
       "      <td>0</td>\n",
       "      <td>0</td>\n",
       "      <td>829</td>\n",
       "      <td>13</td>\n",
       "      <td>1.098633</td>\n",
       "      <td>31.0</td>\n",
       "      <td>7</td>\n",
       "      <td>11</td>\n",
       "      <td>6000.0</td>\n",
       "      <td>NaN</td>\n",
       "    </tr>\n",
       "    <tr>\n",
       "      <th>2</th>\n",
       "      <td>0</td>\n",
       "      <td>0</td>\n",
       "      <td>0</td>\n",
       "      <td>829</td>\n",
       "      <td>13</td>\n",
       "      <td>1.791992</td>\n",
       "      <td>31.0</td>\n",
       "      <td>7</td>\n",
       "      <td>11</td>\n",
       "      <td>8000.0</td>\n",
       "      <td>NaN</td>\n",
       "    </tr>\n",
       "    <tr>\n",
       "      <th>3</th>\n",
       "      <td>0</td>\n",
       "      <td>0</td>\n",
       "      <td>0</td>\n",
       "      <td>829</td>\n",
       "      <td>13</td>\n",
       "      <td>1.609375</td>\n",
       "      <td>31.0</td>\n",
       "      <td>7</td>\n",
       "      <td>11</td>\n",
       "      <td>6000.0</td>\n",
       "      <td>NaN</td>\n",
       "    </tr>\n",
       "    <tr>\n",
       "      <th>4</th>\n",
       "      <td>0</td>\n",
       "      <td>0</td>\n",
       "      <td>2</td>\n",
       "      <td>447</td>\n",
       "      <td>13</td>\n",
       "      <td>1.098633</td>\n",
       "      <td>73.0</td>\n",
       "      <td>20</td>\n",
       "      <td>10</td>\n",
       "      <td>47200.0</td>\n",
       "      <td>NaN</td>\n",
       "    </tr>\n",
       "    <tr>\n",
       "      <th>...</th>\n",
       "      <td>...</td>\n",
       "      <td>...</td>\n",
       "      <td>...</td>\n",
       "      <td>...</td>\n",
       "      <td>...</td>\n",
       "      <td>...</td>\n",
       "      <td>...</td>\n",
       "      <td>...</td>\n",
       "      <td>...</td>\n",
       "      <td>...</td>\n",
       "      <td>...</td>\n",
       "    </tr>\n",
       "    <tr>\n",
       "      <th>1502</th>\n",
       "      <td>0</td>\n",
       "      <td>26</td>\n",
       "      <td>4</td>\n",
       "      <td>518</td>\n",
       "      <td>566</td>\n",
       "      <td>0.000000</td>\n",
       "      <td>121.0</td>\n",
       "      <td>7</td>\n",
       "      <td>19</td>\n",
       "      <td>94000.0</td>\n",
       "      <td>NaN</td>\n",
       "    </tr>\n",
       "    <tr>\n",
       "      <th>1503</th>\n",
       "      <td>0</td>\n",
       "      <td>26</td>\n",
       "      <td>4</td>\n",
       "      <td>507</td>\n",
       "      <td>566</td>\n",
       "      <td>0.000000</td>\n",
       "      <td>121.0</td>\n",
       "      <td>7</td>\n",
       "      <td>19</td>\n",
       "      <td>98700.0</td>\n",
       "      <td>NaN</td>\n",
       "    </tr>\n",
       "    <tr>\n",
       "      <th>1504</th>\n",
       "      <td>0</td>\n",
       "      <td>26</td>\n",
       "      <td>4</td>\n",
       "      <td>536</td>\n",
       "      <td>563</td>\n",
       "      <td>1.609375</td>\n",
       "      <td>125.0</td>\n",
       "      <td>7</td>\n",
       "      <td>19</td>\n",
       "      <td>127000.0</td>\n",
       "      <td>NaN</td>\n",
       "    </tr>\n",
       "    <tr>\n",
       "      <th>1505</th>\n",
       "      <td>0</td>\n",
       "      <td>26</td>\n",
       "      <td>4</td>\n",
       "      <td>541</td>\n",
       "      <td>563</td>\n",
       "      <td>1.098633</td>\n",
       "      <td>123.0</td>\n",
       "      <td>7</td>\n",
       "      <td>19</td>\n",
       "      <td>100000.0</td>\n",
       "      <td>NaN</td>\n",
       "    </tr>\n",
       "    <tr>\n",
       "      <th>1506</th>\n",
       "      <td>0</td>\n",
       "      <td>26</td>\n",
       "      <td>5</td>\n",
       "      <td>911</td>\n",
       "      <td>563</td>\n",
       "      <td>1.791992</td>\n",
       "      <td>146.0</td>\n",
       "      <td>11</td>\n",
       "      <td>22</td>\n",
       "      <td>192000.0</td>\n",
       "      <td>NaN</td>\n",
       "    </tr>\n",
       "  </tbody>\n",
       "</table>\n",
       "<p>1458 rows × 11 columns</p>\n",
       "</div>"
      ],
      "text/plain": [
       "      month  town  flat_type  block  street_name  storey_range  \\\n",
       "0         0     0          0    829           13      1.791992   \n",
       "1         0     0          0    829           13      1.098633   \n",
       "2         0     0          0    829           13      1.791992   \n",
       "3         0     0          0    829           13      1.609375   \n",
       "4         0     0          2    447           13      1.098633   \n",
       "...     ...   ...        ...    ...          ...           ...   \n",
       "1502      0    26          4    518          566      0.000000   \n",
       "1503      0    26          4    507          566      0.000000   \n",
       "1504      0    26          4    536          563      1.609375   \n",
       "1505      0    26          4    541          563      1.098633   \n",
       "1506      0    26          5    911          563      1.791992   \n",
       "\n",
       "      floor_area_sqm  flat_model  lease_commence_date  resale_price  \\\n",
       "0               31.0           7                   11        9000.0   \n",
       "1               31.0           7                   11        6000.0   \n",
       "2               31.0           7                   11        8000.0   \n",
       "3               31.0           7                   11        6000.0   \n",
       "4               73.0          20                   10       47200.0   \n",
       "...              ...         ...                  ...           ...   \n",
       "1502           121.0           7                   19       94000.0   \n",
       "1503           121.0           7                   19       98700.0   \n",
       "1504           125.0           7                   19      127000.0   \n",
       "1505           123.0           7                   19      100000.0   \n",
       "1506           146.0          11                   22      192000.0   \n",
       "\n",
       "     remaining_lease  \n",
       "0                NaN  \n",
       "1                NaN  \n",
       "2                NaN  \n",
       "3                NaN  \n",
       "4                NaN  \n",
       "...              ...  \n",
       "1502             NaN  \n",
       "1503             NaN  \n",
       "1504             NaN  \n",
       "1505             NaN  \n",
       "1506             NaN  \n",
       "\n",
       "[1458 rows x 11 columns]"
      ]
     },
     "execution_count": 21,
     "metadata": {},
     "output_type": "execute_result"
    }
   ],
   "source": [
    "df8=df[df['month']==0]\n",
    "df8\n",
    "\n"
   ]
  },
  {
   "cell_type": "code",
   "execution_count": null,
   "metadata": {},
   "outputs": [],
   "source": [
    "df8.count()\n",
    "df.info()"
   ]
  },
  {
   "cell_type": "code",
   "execution_count": 16,
   "metadata": {},
   "outputs": [],
   "source": [
    "c=pd.Categorical(df['month'])\n",
    "df['month']=c.codes+1\n",
    "df['month']=np.log(df['month'])\n"
   ]
  },
  {
   "cell_type": "code",
   "execution_count": null,
   "metadata": {},
   "outputs": [],
   "source": [
    "df[df['month']==0]"
   ]
  },
  {
   "cell_type": "code",
   "execution_count": 18,
   "metadata": {},
   "outputs": [],
   "source": [
    "from sklearn.model_selection import train_test_split\n",
    "x_train,x_test,y_train,y_test=train_test_split(x,y,test_size=0.3,random_state=0)"
   ]
  },
  {
   "cell_type": "code",
   "execution_count": 19,
   "metadata": {},
   "outputs": [
    {
     "name": "stdout",
     "output_type": "stream",
     "text": [
      "        resale_price\n",
      "38253       550000.0\n",
      "238537      219000.0\n",
      "123169      275000.0\n",
      "180994      155000.0\n",
      "34747       238000.0\n",
      "...              ...\n",
      "17211       392000.0\n",
      "119165      420000.0\n",
      "276366      340000.0\n",
      "42977       410000.0\n",
      "89548       284000.0\n",
      "\n",
      "[263127 rows x 1 columns]\n"
     ]
    }
   ],
   "source": [
    "print(y_test)"
   ]
  },
  {
   "cell_type": "code",
   "execution_count": 22,
   "metadata": {},
   "outputs": [
    {
     "name": "stdout",
     "output_type": "stream",
     "text": [
      "0.5490921132905744\n",
      "7684993432.377423\n"
     ]
    }
   ],
   "source": [
    "from sklearn.ensemble import RandomForestRegressor\n",
    "from sklearn.tree import DecisionTreeRegressor\n",
    "from sklearn.linear_model import LinearRegression\n",
    "from sklearn.linear_model import Ridge\n",
    "from sklearn.metrics import r2_score,mean_squared_error\n",
    "from sklearn.linear_model import Lasso\n",
    "regressor=LinearRegression()\n",
    "regressor.fit(x_train,y_train)\n",
    "y_pred=regressor.predict(x_test)\n",
    "lr=r2_score(y_pred,y_test)\n",
    "me=mean_squared_error(y_pred,y_test)\n",
    "print(lr)\n",
    "print(me)\n"
   ]
  },
  {
   "cell_type": "code",
   "execution_count": null,
   "metadata": {},
   "outputs": [],
   "source": []
  }
 ],
 "metadata": {
  "kernelspec": {
   "display_name": "Python 3",
   "language": "python",
   "name": "python3"
  },
  "language_info": {
   "codemirror_mode": {
    "name": "ipython",
    "version": 3
   },
   "file_extension": ".py",
   "mimetype": "text/x-python",
   "name": "python",
   "nbconvert_exporter": "python",
   "pygments_lexer": "ipython3",
   "version": "3.12.0"
  }
 },
 "nbformat": 4,
 "nbformat_minor": 2
}
